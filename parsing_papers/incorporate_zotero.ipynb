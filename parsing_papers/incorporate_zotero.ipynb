{
 "cells": [
  {
   "cell_type": "code",
   "execution_count": null,
   "metadata": {},
   "outputs": [],
   "source": [
    "import pandas as pd"
   ]
  },
  {
   "cell_type": "code",
   "execution_count": null,
   "metadata": {},
   "outputs": [],
   "source": [
    "df_zotero = pd.read_csv('zotero.csv')"
   ]
  },
  {
   "cell_type": "code",
   "execution_count": null,
   "metadata": {},
   "outputs": [],
   "source": [
    "for paper in df_zotero.iloc:\n",
    "\n",
    "    file_name = paper['Title'].replace(' ', '').replace(':','').replace(',','').replace('/','').replace('?','')\n",
    "\n",
    "    try:\n",
    "        paper_file = open(\"papers/\"+file_name+\".md\", \"r\")\n",
    "\n",
    "        content = [\n",
    "            '\\n'\n",
    "        ]\n",
    "\n",
    "        for index, key in enumerate(df_zotero.keys()):\n",
    "            content.append(key.lower().replace(' ', '_')+': \\\"'+str(paper[key])+'\\\"')\n",
    "            content.append('\\n')\n",
    "\n",
    "        parsed_paper = open(\"parsed_papers/\"+file_name+\".md\", \"w\")\n",
    "\n",
    "        parsed_paper.write(paper_file.read())\n",
    "\n",
    "        for line in content:\n",
    "            parsed_paper.write(line)\n",
    "\n",
    "        parsed_paper.write(\"abstract: \\n\")\n",
    "        parsed_paper.write(\"---\")\n",
    "\n",
    "        paper_file.close()\n",
    "        parsed_paper.close()\n",
    "    except Exception as e:\n",
    "        continue"
   ]
  }
 ],
 "metadata": {
  "kernelspec": {
   "display_name": "utk",
   "language": "python",
   "name": "python3"
  },
  "language_info": {
   "codemirror_mode": {
    "name": "ipython",
    "version": 3
   },
   "file_extension": ".py",
   "mimetype": "text/x-python",
   "name": "python",
   "nbconvert_exporter": "python",
   "pygments_lexer": "ipython3",
   "version": "3.10.6"
  }
 },
 "nbformat": 4,
 "nbformat_minor": 2
}
