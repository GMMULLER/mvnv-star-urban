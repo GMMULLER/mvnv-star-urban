{
 "cells": [
  {
   "cell_type": "code",
   "execution_count": 1,
   "metadata": {},
   "outputs": [],
   "source": [
    "import os\n",
    "from glob import glob\n",
    "result = [y for x in os.walk(\"./parsed_papers\") for y in glob(os.path.join(x[0], '*.md'))]"
   ]
  },
  {
   "cell_type": "code",
   "execution_count": 2,
   "metadata": {},
   "outputs": [],
   "source": [
    "for paper_path in result:\n",
    "    \n",
    "    reading_file = open(paper_path, \"r\")\n",
    "\n",
    "    new_file_content = \"\"\n",
    "    for line in reading_file:\n",
    "        new_line = line.expandtabs(4)\n",
    "        new_file_content += new_line\n",
    "    reading_file.close()\n",
    "\n",
    "    writing_file = open(paper_path, \"w\")\n",
    "    writing_file.write(new_file_content)\n",
    "    writing_file.close()\n"
   ]
  }
 ],
 "metadata": {
  "kernelspec": {
   "display_name": "utk",
   "language": "python",
   "name": "python3"
  },
  "language_info": {
   "codemirror_mode": {
    "name": "ipython",
    "version": 3
   },
   "file_extension": ".py",
   "mimetype": "text/x-python",
   "name": "python",
   "nbconvert_exporter": "python",
   "pygments_lexer": "ipython3",
   "version": "3.10.6"
  }
 },
 "nbformat": 4,
 "nbformat_minor": 2
}
